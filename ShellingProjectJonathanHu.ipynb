{
 "cells": [
  {
   "cell_type": "markdown",
   "id": "72b46045",
   "metadata": {},
   "source": [
    "# Schelling's Seasonal Sport World"
   ]
  },
  {
   "cell_type": "markdown",
   "id": "1e8202c9",
   "metadata": {},
   "source": [
    "#### Your Name Here: Jonathan Hu"
   ]
  },
  {
   "cell_type": "markdown",
   "id": "4bb20291",
   "metadata": {},
   "source": [
    "### Intro\n",
    "\n",
    "In this make believe world there are two distinct groups of people, and they do not get along. These two groups are Winter sports fans and Summer sports fans. Both groups think that their seasonal sports are the best, and they constantly argue with one another. They have collectively decided that the best plan of action is to move around so that everyone has some neighbors that like the same sports as they do. In this assignment you will simulate a torus model that represents the world that was just described."
   ]
  },
  {
   "cell_type": "markdown",
   "id": "9e66775f",
   "metadata": {},
   "source": [
    "### Directions\n",
    "\n",
    "There are three different scenarios that need to be implemented to fully complete this assignment:\n",
    "\n",
    "Scenario 1: Every home has to have at least 4 or more neighbors that are the same as them.\n",
    "\n",
    "Scenario 2: Every home has to have between 1 and 4 (inclusive) neigbors that are the same as them.\n",
    "\n",
    "Scenario 3: The third scenario adds a third neighbor that likes BOTH winter and summer sports. These neighbors are sufficent for both summer sport neighbors and winter sport neihbors. In this scenario we still make sure every home has at least 4 like minded neighbors."
   ]
  },
  {
   "cell_type": "markdown",
   "id": "c4b4c9c7",
   "metadata": {},
   "source": [
    "### Grading Scale\n",
    "\n",
    "#### 100 Points Total\n",
    "\n",
    "Make sure that you start with a normal array and then randomize it. You cannot hardcode a matrix that already meets the requirements. It HAS to be simulated by moving homes that do not meet the specified requirement to a vacant home.\n"
   ]
  },
  {
   "cell_type": "markdown",
   "id": "2e1d9989",
   "metadata": {},
   "source": [
    "### Packages\n",
    "\n",
    "Import the necessary packages. You should be able to complete the assignment by only using these. But, feel free to import other packages if you'd like."
   ]
  },
  {
   "cell_type": "code",
   "execution_count": 1,
   "id": "cc6669d1",
   "metadata": {},
   "outputs": [],
   "source": [
    "import numpy as np\n",
    "from numpy.random import shuffle\n",
    "import random as rand\n",
    "import matplotlib.pyplot as plt\n",
    "from matplotlib import colors"
   ]
  },
  {
   "cell_type": "markdown",
   "id": "d155fecd",
   "metadata": {
    "tags": []
   },
   "source": [
    "### Write a function to initialize the starting matrix for each scenario."
   ]
  },
  {
   "cell_type": "markdown",
   "id": "0d18f7f6",
   "metadata": {},
   "source": [
    "The first and second scenario can use the same function because they only use 2 types of neighbors. You should generate an array 100 people, 50 Winter sports fans and 50 Summer sports fans for the first 2 scenarios. The third scenario will have 33 Winter fans, 33 Summer fans, and 34 Summer/Winter fans. After you generate the array, randomly select 12 homes and set them to 0. 0 will represent a vacant home for this assignment. The Winter and Summer sport fans will be represented by a value of 1 and a value of 2. Homes that do not meet the neighbor requirement will be moved to these vacant homes until all of the homes meet the specified condition. After setting some homes to be vacant, we need to reshape our array into a 10x10 matrix instad of a 1x100 array. Once this is done we can begin the simulation.  \n",
    "\n",
    "I highly recommend looking into the documentation for numpy if you have not used it before. But, np.random.randint() and np.random.shuffle() might be helpful when creating this function."
   ]
  },
  {
   "cell_type": "markdown",
   "id": "9e328f8a",
   "metadata": {},
   "source": [
    "#### Function to initialize the starting matrix for the 1st and 2nd scenario\n",
    "#### 10 Points:"
   ]
  },
  {
   "cell_type": "code",
   "execution_count": 2,
   "id": "a29b25a3",
   "metadata": {
    "scrolled": true
   },
   "outputs": [],
   "source": [
    "def startUp1and2():\n",
    "    # Generate arrays with 50 winter sports fans and 50 summer sports fans\n",
    "    winter_fans = np.ones(50, dtype=int)\n",
    "    summer_fans = np.ones(50, dtype=int) * 2\n",
    "    \n",
    "    # Combine winter and summer fans arrays\n",
    "    initial_array = np.concatenate((winter_fans, summer_fans))\n",
    "    \n",
    "    # Randomly select 12 homes and make them vacant (set to 0)\n",
    "    vacant_indices = np.random.choice(len(initial_array), 12, replace=False)\n",
    "    initial_array[vacant_indices] = 0\n",
    "    \n",
    "    # Shuffle the array to randomize the order of 1 2 and 0\n",
    "    np.random.shuffle(initial_array)\n",
    "    \n",
    "    # Reshape the array into a 10x10 matrix\n",
    "    world = initial_array.reshape((10, 10))\n",
    "    \n",
    "    # Print the initial matrix\n",
    "    print(\"Initial Matrix:\")\n",
    "    print(world)\n",
    "    \n",
    "    return world\n"
   ]
  },
  {
   "cell_type": "code",
   "execution_count": 3,
   "id": "3b61b3e0",
   "metadata": {},
   "outputs": [
    {
     "name": "stdout",
     "output_type": "stream",
     "text": [
      "Initial Matrix:\n",
      "[[2 0 1 2 1 0 0 1 2 1]\n",
      " [0 2 1 1 1 1 1 1 2 2]\n",
      " [0 1 2 2 2 0 2 1 2 2]\n",
      " [1 1 2 2 1 2 2 1 1 2]\n",
      " [2 1 1 2 1 2 2 1 1 2]\n",
      " [2 1 2 0 0 2 2 1 2 1]\n",
      " [2 2 2 1 2 1 2 1 1 1]\n",
      " [0 1 1 2 2 1 2 2 1 0]\n",
      " [1 2 2 1 2 1 2 1 2 2]\n",
      " [1 1 1 1 2 2 0 0 1 1]]\n"
     ]
    }
   ],
   "source": [
    "#Sanity Check\n",
    "test = startUp1and2()"
   ]
  },
  {
   "cell_type": "markdown",
   "id": "81fbcf52",
   "metadata": {},
   "source": [
    "#### Function to initialize the starting matrix for the 3rd scenario\n",
    "#### 10 Points:"
   ]
  },
  {
   "cell_type": "code",
   "execution_count": 4,
   "id": "9b107b18",
   "metadata": {},
   "outputs": [],
   "source": [
    "#Scenario 3 Start-Up\n",
    "\n",
    "def startUp3():\n",
    "    # Generate arrays with 33 Winter sports fans, 33 Summer sports fans, and 34 Winter/Summer sports fans\n",
    "    winter_fans = np.ones(33, dtype=int)\n",
    "    summer_fans = np.ones(33, dtype=int) * 2\n",
    "    winter_summer_fans = np.ones(34, dtype=int) * 3\n",
    "    \n",
    "    # Combine all three types of fans arrays\n",
    "    initial_array = np.concatenate((winter_fans, summer_fans, winter_summer_fans))\n",
    "    \n",
    "    # Randomly select 12 homes and make them vacant (set to 0)\n",
    "    vacant_indices = np.random.choice(len(initial_array), 12, replace=False)\n",
    "    initial_array[vacant_indices] = 0\n",
    "    \n",
    "    # Shuffle the array to randomize the order of 1s, 2s, 3s, and 0s\n",
    "    np.random.shuffle(initial_array)\n",
    "    \n",
    "    # Reshape the array into a 10x10 matrix\n",
    "    world = initial_array.reshape((10, 10))\n",
    "    \n",
    "    # Print the initial matrix\n",
    "    print(\"Initial Matrix:\")\n",
    "    print(world)\n",
    "    \n",
    "    return world"
   ]
  },
  {
   "cell_type": "code",
   "execution_count": 5,
   "id": "5d4d2996",
   "metadata": {},
   "outputs": [
    {
     "name": "stdout",
     "output_type": "stream",
     "text": [
      "Initial Matrix:\n",
      "[[2 0 1 2 3 0 3 2 2 0]\n",
      " [3 3 0 2 1 1 2 3 1 3]\n",
      " [2 2 2 1 1 3 3 1 3 2]\n",
      " [3 1 3 3 2 1 1 0 1 3]\n",
      " [2 3 2 2 1 3 3 2 1 1]\n",
      " [0 3 1 1 2 2 1 2 0 3]\n",
      " [0 2 2 3 0 2 2 3 0 0]\n",
      " [1 1 3 1 3 1 3 1 3 3]\n",
      " [3 2 3 2 2 2 1 2 1 1]\n",
      " [2 1 3 2 2 0 1 3 3 3]]\n"
     ]
    }
   ],
   "source": [
    "#Sanity Check\n",
    "test2 = startUp3()"
   ]
  },
  {
   "cell_type": "markdown",
   "id": "4284e05c",
   "metadata": {},
   "source": [
    "### Determine which cells are vacant\n",
    "\n",
    "Create a function to find the locations of the vacant spaces. There are many ways to do this, one way is to loop through our matrix and append the indices where the given home is vacant."
   ]
  },
  {
   "cell_type": "markdown",
   "id": "909741aa",
   "metadata": {},
   "source": [
    "#### 10 Points:"
   ]
  },
  {
   "cell_type": "code",
   "execution_count": 6,
   "id": "748ed3ff",
   "metadata": {},
   "outputs": [],
   "source": [
    "#determines the locations in the matrix where homes are vacant\n",
    "#function takes in matrix that contains neighbor info, we return the list of indices where the homes are vacant\n",
    "def vacancies(world):\n",
    "    vacant_homes = []\n",
    "    rows, cols = world.shape\n",
    "\n",
    "    # Loop through every row in the world matrix\n",
    "    for row in range(rows):\n",
    "        # Nested loop through every column in the current row of the world matrix\n",
    "        for col in range(cols):\n",
    "            # If the current home is vacant, append the current row/column indices to the vacant_homes list\n",
    "            if world[row, col] == 0:\n",
    "                vacant_homes.append((row, col)) \n",
    "\n",
    "    return vacant_homes"
   ]
  },
  {
   "cell_type": "code",
   "execution_count": 7,
   "id": "c37f5019",
   "metadata": {},
   "outputs": [
    {
     "name": "stdout",
     "output_type": "stream",
     "text": [
      "Initial Matrix:\n",
      "[[1 1 1 2 1 1 2 1 0 0]\n",
      " [1 0 1 1 2 2 2 2 2 0]\n",
      " [0 0 2 2 2 1 2 2 1 1]\n",
      " [1 0 2 2 1 1 2 2 1 1]\n",
      " [0 1 1 1 1 2 2 2 1 1]\n",
      " [2 2 1 0 2 0 2 2 2 1]\n",
      " [1 1 1 1 0 2 1 2 1 2]\n",
      " [2 2 2 1 1 2 1 2 2 2]\n",
      " [2 2 0 2 1 1 2 1 2 2]\n",
      " [1 2 2 1 2 1 1 2 2 2]]\n",
      "[(0, 8), (0, 9), (1, 1), (1, 9), (2, 0), (2, 1), (3, 1), (4, 0), (5, 3), (5, 5), (6, 4), (8, 2)]\n"
     ]
    }
   ],
   "source": [
    "test = startUp1and2()\n",
    "print(vacancies(test))"
   ]
  },
  {
   "cell_type": "markdown",
   "id": "9e96b957",
   "metadata": {},
   "source": [
    "### Move Neighbor\n",
    "\n",
    "Create a function to move the people in a home that does not meeting the neighbor requirements to a vacant home. You should randomly choose a set of indices that are stored in 'vacant_homes' and perform a swap with current home type and the vacant home type. After the home is swapped return our updated world."
   ]
  },
  {
   "cell_type": "markdown",
   "id": "909740f3",
   "metadata": {},
   "source": [
    "#### 10 Points:"
   ]
  },
  {
   "cell_type": "code",
   "execution_count": 8,
   "id": "d7a012f2",
   "metadata": {},
   "outputs": [],
   "source": [
    "#relocates a family that has insufficient neighbors to a random empty cell\n",
    "#function takes in a row and column index, a list of indices containing the vacant homes, and a matrix of the world\n",
    "\n",
    "def move(row, col, vacant_homes, world):\n",
    "    # Convert vacant_homes list to a 1-dimensional array\n",
    "    vacant_homes = np.array(vacant_homes)\n",
    "\n",
    "    # Randomly choose a vacant_home from the list\n",
    "    vacant_idx = np.random.choice(len(vacant_homes))\n",
    "    vacant_row, vacant_col = vacant_homes[vacant_idx]\n",
    "\n",
    "    # Make a temp variable to store the vacant home type\n",
    "    vacant_home_type = world[vacant_row, vacant_col]\n",
    "\n",
    "    # Move the new people into the vacant home\n",
    "    world[vacant_row, vacant_col] = world[row, col]\n",
    "\n",
    "    # Set the old home that was moved out of to the temp variable that stored the vacant home\n",
    "    world[row, col] = vacant_home_type\n",
    "\n",
    "    return world"
   ]
  },
  {
   "cell_type": "markdown",
   "id": "f0c66a9a",
   "metadata": {},
   "source": [
    "### Determine Neighbors\n",
    "\n",
    "Create a function to determine which neighbors are surrounding the current home. Keep in mind that this is a torus model. That means the far left column connects with the far right column, and the top row connects to the bottom row. Think of the model as a sphere or world rather than a grid or world. It might help to draw/print out an example matrix to help visualize what the neighbor would be for edge columns/rows.  **This can easily be solved by brute force (demonstrated below) using if-statements if you understand the layout of the torus matrix** . All cells will have 8 neighbors. Make sure to include all of them in the if-statements. **Any more elegant methods that achieve the required outcomes/output are welcome!**."
   ]
  },
  {
   "cell_type": "markdown",
   "id": "7c021bc7",
   "metadata": {},
   "source": [
    "#### 10 Points:"
   ]
  },
  {
   "cell_type": "code",
   "execution_count": 9,
   "id": "33e679dd",
   "metadata": {},
   "outputs": [],
   "source": [
    "#creates a list of neighboring cells that surround a given cell. \n",
    "#Left/Right/Top/Bottom columns/rows wrap around so everything is connected\n",
    "#Brute Force Pseudo-Code Below\n",
    "def whosAround(row, col, world):\n",
    "    rows, cols = world.shape\n",
    "    neighbors = []\n",
    "\n",
    "    # Check left neighbor\n",
    "    left = world[row, (col - 1) % cols]\n",
    "    neighbors.append(left)\n",
    "\n",
    "    # Check right neighbor\n",
    "    right = world[row, (col + 1) % cols]\n",
    "    neighbors.append(right)\n",
    "\n",
    "    # Check top-left neighbor\n",
    "    top_left = world[(row - 1) % rows, (col - 1) % cols]\n",
    "    neighbors.append(top_left)\n",
    "\n",
    "    # Check top-middle neighbor\n",
    "    top_middle = world[(row - 1) % rows, col]\n",
    "    neighbors.append(top_middle)\n",
    "\n",
    "    # Check top-right neighbor\n",
    "    top_right = world[(row - 1) % rows, (col + 1) % cols]\n",
    "    neighbors.append(top_right)\n",
    "\n",
    "    # Check bottom-left neighbor\n",
    "    bottom_left = world[(row + 1) % rows, (col - 1) % cols]\n",
    "    neighbors.append(bottom_left)\n",
    "\n",
    "    # Check bottom-middle neighbor\n",
    "    bottom_middle = world[(row + 1) % rows, col]\n",
    "    neighbors.append(bottom_middle)\n",
    "\n",
    "    # Check bottom-right neighbor\n",
    "    bottom_right = world[(row + 1) % rows, (col + 1) % cols]\n",
    "    neighbors.append(bottom_right)\n",
    "\n",
    "    return neighbors"
   ]
  },
  {
   "cell_type": "markdown",
   "id": "621e1381",
   "metadata": {},
   "source": [
    "### Create a Schelling Model that implements the rules describes in Scenario 1: \n",
    "\n",
    "This means that a Winter sports fan must have at least 4 neighbors that are also Winter sports fans. If they do not have at least 4 neighbors we have to move them.\n",
    "\n",
    "Use the helper functions you previously made to create this. i.e. vacancies(), whosAround(), and move() will all be necessary to complete this function."
   ]
  },
  {
   "cell_type": "markdown",
   "id": "60e2ab44",
   "metadata": {},
   "source": [
    "#### 10 Points:"
   ]
  },
  {
   "cell_type": "code",
   "execution_count": 10,
   "id": "a57e57da",
   "metadata": {},
   "outputs": [],
   "source": [
    "def SchellingModel1(world):\n",
    "    diff_check = 0\n",
    "    rows, cols = world.shape\n",
    "\n",
    "    # Create a copy of the world matrix to avoid modifying the original matrix\n",
    "    updated_world = np.copy(world)\n",
    "\n",
    "    # Loop through every row in the world matrix\n",
    "    for row in range(rows):\n",
    "        for col in range(cols):\n",
    "            vacant_homes = vacancies(world)\n",
    "            neighbors = whosAround(row, col, world)\n",
    "            current_home = world[row, col]\n",
    "            same_neighbor_count = 0\n",
    "\n",
    "            # Loop through neighbors to count how many are the same as the current location\n",
    "            for neighbor in neighbors:\n",
    "                if neighbor == current_home:\n",
    "                    same_neighbor_count += 1\n",
    "\n",
    "            # After looping through neighbors, check count of same neighbors\n",
    "            if current_home != 0 and same_neighbor_count < 4:\n",
    "                # Increase the diff_check if neighbor requirement is not met\n",
    "                diff_check += 1\n",
    "\n",
    "                # Call move() with updated world because neighbor requirement is not met\n",
    "                updated_world = move(row, col, vacant_homes, updated_world)\n",
    "\n",
    "    return updated_world, diff_check"
   ]
  },
  {
   "cell_type": "markdown",
   "id": "36892e5a",
   "metadata": {
    "tags": []
   },
   "source": [
    "### Create a Schelling model that implements the rules described in scenario 2:\n",
    "\n",
    "This means that a Winter/Summer sports fan must have between 1 and 4 neighbors to be considered sufficient.\n",
    "\n",
    "Once again, use the helper functions that you created earlier to solve this function."
   ]
  },
  {
   "cell_type": "markdown",
   "id": "c557cb29",
   "metadata": {},
   "source": [
    "#### 10 Points:"
   ]
  },
  {
   "cell_type": "code",
   "execution_count": 11,
   "id": "494f0455",
   "metadata": {},
   "outputs": [],
   "source": [
    "def SchellingModel2(world):\n",
    "    diff_check = 0\n",
    "    rows, cols = world.shape\n",
    "\n",
    "    # Loop through every row in the world matrix\n",
    "    for row in range(rows):\n",
    "        for col in range(cols):\n",
    "            vacant_homes = vacancies(world)\n",
    "\n",
    "            # Get the neighbors surrounding the current location\n",
    "            neighbors = whosAround(row, col, world)\n",
    "            current_home = world[row, col]\n",
    "            same_neighbor_count = 0\n",
    "\n",
    "            # Loop through neighbors to count how many are the same as the current location\n",
    "            for neighbor in neighbors:\n",
    "                if neighbor == current_home:\n",
    "                    same_neighbor_count += 1\n",
    "\n",
    "            # Check if the current home is a Winter Sports Fan (1) or Summer Sports Fan (2)\n",
    "            if current_home in [1, 2]:\n",
    "                # Calculate the count of neighbors with the same season preference\n",
    "                same_season_neighbors = sum(1 for neighbor in neighbors if neighbor == current_home)\n",
    "\n",
    "                # 1 <= same_season_neighbors <= 4\n",
    "                if same_season_neighbors < 1 or same_season_neighbors > 4:\n",
    "                    # Increase the diff_check because neighbor requirement is not met\n",
    "                    diff_check += 1\n",
    "\n",
    "                    # Call move() with updated world because neighbor requirement is not met\n",
    "                    world = move(row, col, vacant_homes, world)\n",
    "\n",
    "    return world, diff_check"
   ]
  },
  {
   "cell_type": "markdown",
   "id": "bd660989",
   "metadata": {},
   "source": [
    "### Create a Schelling Model that implements the rules described in scenario 3:\n",
    "\n",
    "This means that Winter and Summer sports fans must have at least 4 neighbors that like the same season for sports as them or both seasons of sports."
   ]
  },
  {
   "cell_type": "markdown",
   "id": "ef9b2953",
   "metadata": {},
   "source": [
    "#### 10 Points:"
   ]
  },
  {
   "cell_type": "code",
   "execution_count": 12,
   "id": "726d51a5",
   "metadata": {},
   "outputs": [],
   "source": [
    "def SchellingModel3(world):\n",
    "    diff_check = 0\n",
    "    rows, cols = world.shape\n",
    "\n",
    "    # Create a copy of the world matrix\n",
    "    updated_world = np.copy(world)\n",
    "\n",
    "    # Loop through every row in the world matrix\n",
    "    for row in range(rows):\n",
    "        for col in range(cols):\n",
    "            vacant_homes = vacancies(world)\n",
    "            neighbors = whosAround(row, col, world)\n",
    "            current_home = world[row, col]\n",
    "            same_neighbor_count = 0\n",
    "\n",
    "            # Loop through neighbors to count how many are the same as the current location\n",
    "            for neighbor in neighbors:\n",
    "                if current_home == 1:  # Current home likes Winter sports\n",
    "                    if neighbor == 1 or neighbor == 2 or neighbor == 3:\n",
    "                        same_neighbor_count += 1\n",
    "                elif current_home == 2:  # Current home likes Summer sports\n",
    "                    if neighbor == 1 or neighbor == 2 or neighbor == 3:\n",
    "                        same_neighbor_count += 1\n",
    "                else:  # Current home likes both Winter and Summer sports\n",
    "                    if neighbor == 1 or neighbor == 2 or neighbor == 3:\n",
    "                        same_neighbor_count += 1\n",
    "\n",
    "            # Same_neighbor_count >= 4\n",
    "            if (current_home == 1 or current_home == 2) and same_neighbor_count < 4:\n",
    "                # Increase the diff_check because neighbor requirement is not met\n",
    "                diff_check += 1\n",
    "\n",
    "                # Call move with updated world because neighbor requirement is not met\n",
    "                updated_world = move(row, col, vacant_homes, updated_world)\n",
    "\n",
    "    return updated_world, diff_check"
   ]
  },
  {
   "cell_type": "markdown",
   "id": "46760d0a",
   "metadata": {},
   "source": [
    "### Create a Main Function For Scenario 1, 2 and 3:\n",
    "\n",
    "You should run the Schelling Model function until there are only 12 neighbors who do not meet the requirements. These 12 neighbors represent the 12 vacant homes. I recommend using a while loop that calls the Schelling Model function until the number of neighbors not meeting requirements is 12. \n",
    "\n",
    "Use plt.imshow() to create a graphic visualization of your matrix. You should be able to produce a graph that represents the new sorted world for each condition.\n",
    "\n",
    "You should print out the current amount of homes that have too many neighbors that prefer a different season of sports as they do. Once this value hits 0 you know that your graph is sorted. You should also do a visual check as well to make sure that the value being printed is true."
   ]
  },
  {
   "cell_type": "markdown",
   "id": "543a4c7f",
   "metadata": {},
   "source": [
    "#### 10 Points:"
   ]
  },
  {
   "cell_type": "code",
   "execution_count": 13,
   "id": "d9837ed9",
   "metadata": {},
   "outputs": [],
   "source": [
    "def check1(world):\n",
    "    while True:\n",
    "        world, diff_check = SchellingModel1(world)\n",
    "        if diff_check > 12:\n",
    "            # Print out the world and continue the while loop\n",
    "            print(\"Generating World:\")\n",
    "            print(world)\n",
    "        else:\n",
    "            # Print out the world, show the image, and return\n",
    "            print(\"Final World:\")\n",
    "            print(world)\n",
    "            plt.imshow(world)\n",
    "            plt.show()\n",
    "            return"
   ]
  },
  {
   "cell_type": "code",
   "execution_count": 14,
   "id": "7666d05a",
   "metadata": {},
   "outputs": [
    {
     "name": "stdout",
     "output_type": "stream",
     "text": [
      "Initial Matrix:\n",
      "[[0 2 2 1 1 2 1 1 2 1]\n",
      " [2 1 2 1 1 2 1 2 2 2]\n",
      " [2 2 0 2 2 1 2 2 0 2]\n",
      " [2 2 2 0 1 1 2 2 2 2]\n",
      " [0 1 1 1 0 0 0 2 1 1]\n",
      " [1 2 2 1 1 1 2 1 2 1]\n",
      " [0 0 2 1 1 2 1 2 1 1]\n",
      " [1 1 2 1 1 1 2 2 2 1]\n",
      " [1 1 1 2 2 1 2 1 1 0]\n",
      " [1 2 0 2 2 2 2 1 2 2]]\n",
      "Generating World:\n",
      "[[2 2 2 0 1 2 0 0 2 1]\n",
      " [2 0 2 1 1 0 0 2 2 2]\n",
      " [2 2 1 0 0 1 2 2 2 2]\n",
      " [2 2 0 2 2 1 2 2 2 2]\n",
      " [2 0 1 1 2 2 0 2 2 1]\n",
      " [1 2 1 1 1 1 1 1 1 1]\n",
      " [1 1 1 1 1 2 2 2 1 1]\n",
      " [1 1 1 1 1 1 2 2 1 1]\n",
      " [1 1 2 2 2 1 2 1 2 1]\n",
      " [2 1 2 2 2 2 0 1 2 1]]\n",
      "Generating World:\n",
      "[[2 2 2 2 0 0 2 1 2 0]\n",
      " [2 1 0 0 0 1 2 2 2 2]\n",
      " [2 2 0 1 1 0 2 2 2 2]\n",
      " [2 2 2 0 1 1 2 2 2 2]\n",
      " [2 0 2 1 0 2 1 2 2 0]\n",
      " [1 1 1 1 1 2 2 1 1 1]\n",
      " [1 1 1 1 1 1 2 1 1 1]\n",
      " [1 1 1 1 1 1 2 2 1 1]\n",
      " [1 1 2 2 2 1 1 2 2 1]\n",
      " [1 1 2 2 2 2 2 2 1 2]]\n",
      "Generating World:\n",
      "[[2 2 2 2 0 1 2 0 2 2]\n",
      " [2 1 0 1 2 0 2 2 2 2]\n",
      " [2 2 0 0 1 2 2 2 2 2]\n",
      " [2 2 0 1 1 2 2 2 2 2]\n",
      " [0 2 1 1 1 2 0 2 2 1]\n",
      " [1 1 1 1 1 1 2 1 1 1]\n",
      " [1 1 1 1 1 1 2 1 1 1]\n",
      " [1 1 1 1 1 1 2 2 1 1]\n",
      " [1 1 0 2 2 0 0 2 2 1]\n",
      " [1 2 2 2 2 2 2 2 1 1]]\n",
      "Generating World:\n",
      "[[2 2 2 2 1 0 2 2 2 2]\n",
      " [2 0 0 0 0 2 2 2 2 2]\n",
      " [2 2 1 2 1 2 2 2 2 2]\n",
      " [2 2 0 1 1 2 2 2 2 2]\n",
      " [0 1 1 1 1 0 0 2 2 1]\n",
      " [1 1 1 1 1 1 0 2 1 1]\n",
      " [1 1 1 1 1 1 1 1 1 1]\n",
      " [1 1 1 1 1 0 0 2 1 1]\n",
      " [1 1 2 2 2 2 1 2 2 1]\n",
      " [1 2 2 2 2 2 2 2 1 1]]\n",
      "Generating World:\n",
      "[[2 2 2 2 0 1 2 2 2 2]\n",
      " [2 0 1 0 1 2 2 2 2 2]\n",
      " [2 2 0 1 0 2 2 2 2 2]\n",
      " [2 1 2 1 1 0 2 2 2 2]\n",
      " [0 1 1 1 1 0 1 2 2 0]\n",
      " [1 1 1 1 1 1 2 2 1 1]\n",
      " [1 1 1 1 1 1 1 1 1 1]\n",
      " [1 1 1 1 1 0 2 0 1 1]\n",
      " [1 1 2 2 2 2 2 2 0 1]\n",
      " [1 2 2 2 2 2 2 2 2 1]]\n",
      "Final World:\n",
      "[[2 2 2 2 0 0 2 2 2 2]\n",
      " [2 1 0 0 1 2 2 2 2 2]\n",
      " [2 2 1 1 2 2 2 2 2 2]\n",
      " [2 1 0 1 1 0 2 2 2 2]\n",
      " [1 1 1 1 1 1 0 2 2 2]\n",
      " [1 1 1 1 1 1 0 1 1 1]\n",
      " [1 1 1 1 1 1 0 1 1 1]\n",
      " [1 1 1 1 1 2 0 2 1 1]\n",
      " [1 1 2 2 2 2 2 2 0 1]\n",
      " [1 2 2 2 2 2 2 2 2 0]]\n"
     ]
    },
    {
     "data": {
      "image/png": "[encoded data removed]",
      "text/plain": [
       "<Figure size 640x480 with 1 Axes>"
      ]
     },
     "metadata": {},
     "output_type": "display_data"
    }
   ],
   "source": [
    "world = startUp1and2()\n",
    "check1(world)"
   ]
  },
  {
   "cell_type": "markdown",
   "id": "b0a59d3e",
   "metadata": {},
   "source": [
    "### Main Function For Scenario 2:\n",
    "\n",
    "#### 5 Points:"
   ]
  },
  {
   "cell_type": "code",
   "execution_count": 15,
   "id": "55fcd3ef",
   "metadata": {},
   "outputs": [],
   "source": [
    "def check2(world):\n",
    "    while True:\n",
    "        world, diff_check = SchellingModel2(world)\n",
    "        #if diff_check is over the thresh-hold:\n",
    "        if diff_check > 12:\n",
    "            # Print out the world and continue the while loop\n",
    "            print(\"Generating World:\")\n",
    "            print(world)\n",
    "        #if every home has suffienct neighbors:\n",
    "        else:\n",
    "            # Print out the world, show the image, and return\n",
    "            print(\"Final World:\")\n",
    "            print(world)\n",
    "            plt.imshow(world)\n",
    "            plt.show()\n",
    "            return"
   ]
  },
  {
   "cell_type": "code",
   "execution_count": 16,
   "id": "4a340de8",
   "metadata": {},
   "outputs": [
    {
     "name": "stdout",
     "output_type": "stream",
     "text": [
      "Initial Matrix:\n",
      "[[1 2 2 1 1 1 1 1 1 1]\n",
      " [1 0 2 1 1 2 2 0 0 0]\n",
      " [1 2 0 1 1 2 1 2 1 1]\n",
      " [2 1 2 1 2 1 1 0 2 2]\n",
      " [2 2 2 1 2 0 1 2 1 2]\n",
      " [2 1 2 2 1 2 1 1 2 1]\n",
      " [2 0 0 0 2 1 1 1 2 1]\n",
      " [0 2 2 2 1 2 1 2 1 1]\n",
      " [1 1 2 2 1 1 1 2 2 1]\n",
      " [1 2 1 2 2 2 2 1 1 0]]\n",
      "Generating World:\n",
      "[[1 2 2 1 1 1 1 1 1 0]\n",
      " [1 0 2 1 0 2 2 0 2 2]\n",
      " [1 2 0 1 1 2 1 2 1 1]\n",
      " [2 1 2 1 2 2 1 2 1 2]\n",
      " [1 0 2 1 2 1 1 2 1 2]\n",
      " [2 1 2 2 1 2 0 1 2 1]\n",
      " [2 1 1 1 2 1 1 1 2 1]\n",
      " [1 2 2 2 1 2 0 2 1 1]\n",
      " [1 1 0 2 1 1 1 2 2 0]\n",
      " [1 2 1 2 2 2 2 0 1 0]]\n",
      "Final World:\n",
      "[[1 2 2 1 1 1 1 1 1 0]\n",
      " [1 1 2 1 0 2 2 0 2 2]\n",
      " [1 2 0 1 1 2 1 2 1 1]\n",
      " [2 1 2 1 2 2 1 2 1 2]\n",
      " [1 0 2 1 2 1 1 2 1 2]\n",
      " [2 1 2 2 1 2 0 1 2 1]\n",
      " [2 1 1 1 2 1 1 1 2 1]\n",
      " [0 2 2 2 1 2 0 2 1 1]\n",
      " [1 1 0 2 1 1 1 2 2 0]\n",
      " [1 2 1 2 2 2 2 0 1 0]]\n"
     ]
    },
    {
     "data": {
      "image/png": "[encoded data removed]",
      "text/plain": [
       "<Figure size 640x480 with 1 Axes>"
      ]
     },
     "metadata": {},
     "output_type": "display_data"
    }
   ],
   "source": [
    "world = startUp1and2()\n",
    "check2(world)"
   ]
  },
  {
   "cell_type": "markdown",
   "id": "82cb5eac",
   "metadata": {},
   "source": [
    "### Main Function For Scenario 3:\n",
    "\n",
    "#### 5 Points:"
   ]
  },
  {
   "cell_type": "code",
   "execution_count": 17,
   "id": "58e9f6e3",
   "metadata": {},
   "outputs": [],
   "source": [
    "def check3(world):\n",
    "    while True:\n",
    "        world, diff_check = SchellingModel2(world)\n",
    "        if diff_check > 12:\n",
    "            # Print out the world and continue the while loop\n",
    "            print(\"Generating World:\")\n",
    "            print(world)\n",
    "        else:\n",
    "            # Print out the world, show the image, and return\n",
    "            print(\"Final World:\")\n",
    "            print(world)\n",
    "            plt.imshow(world)\n",
    "            plt.show()\n",
    "            return"
   ]
  },
  {
   "cell_type": "code",
   "execution_count": 18,
   "id": "f97e50c1",
   "metadata": {},
   "outputs": [
    {
     "name": "stdout",
     "output_type": "stream",
     "text": [
      "Initial Matrix:\n",
      "[[2 2 3 2 1 1 3 3 1 2]\n",
      " [1 2 0 1 1 3 3 1 1 3]\n",
      " [1 1 3 2 1 3 0 3 1 3]\n",
      " [3 2 3 3 3 2 0 3 1 2]\n",
      " [0 1 3 1 3 1 1 0 2 1]\n",
      " [3 2 2 2 0 1 2 0 1 1]\n",
      " [3 3 3 2 1 3 3 0 2 1]\n",
      " [2 2 0 3 3 0 3 2 0 3]\n",
      " [1 1 1 2 1 3 3 3 2 2]\n",
      " [3 2 3 2 0 1 2 2 1 1]]\n",
      "Final World:\n",
      "[[2 2 3 2 1 1 3 3 1 2]\n",
      " [1 2 0 1 1 3 3 1 1 3]\n",
      " [1 1 3 0 1 3 0 3 1 3]\n",
      " [3 2 3 3 3 0 0 3 1 2]\n",
      " [0 1 3 0 3 1 1 0 2 1]\n",
      " [3 2 2 2 0 1 2 2 1 1]\n",
      " [3 3 3 2 1 3 3 0 2 1]\n",
      " [2 2 0 3 3 0 3 2 2 3]\n",
      " [1 1 1 2 1 3 3 3 2 2]\n",
      " [3 2 3 2 1 1 2 2 1 1]]\n"
     ]
    },
    {
     "data": {
      "image/png": "[encoded data removed]",
      "text/plain": [
       "<Figure size 640x480 with 1 Axes>"
      ]
     },
     "metadata": {},
     "output_type": "display_data"
    }
   ],
   "source": [
    "world = startUp3()\n",
    "check3(world)"
   ]
  }
 ],
 "metadata": {
  "kernelspec": {
   "display_name": "Python 3 (ipykernel)",
   "language": "python",
   "name": "python3"
  },
  "language_info": {
   "codemirror_mode": {
    "name": "ipython",
    "version": 3
   },
   "file_extension": ".py",
   "mimetype": "text/x-python",
   "name": "python",
   "nbconvert_exporter": "python",
   "pygments_lexer": "ipython3",
   "version": "3.10.8"
  }
 },
 "nbformat": 4,
 "nbformat_minor": 5
}
